{
 "cells": [
  {
   "cell_type": "markdown",
   "metadata": {},
   "source": [
    "Анализ файла. \n",
    "Напишите программу, которая читает содержимое двух текстовых фай­лов и сравнивает их следующим образом:\n",
    "показывает список всех уникальных слов, содержащихся в обоих файлах;\n",
    "показывает список слов, входящих в оба файла;\n",
    "показывает список слов из первого файла, не входящих во второй;\n",
    "показывает список слов из второго файла, не входящих в первый;\n",
    "показывает список слов, входящих либо в первый, либо во второй файл, но не входя­щих в оба файла одновременно.\n",
    "Подсказка: для выполнения этого анализа используйте операции над множествами.\n",
    "(ответ в виде файла: diff_files.py)\n"
   ]
  },
  {
   "cell_type": "code",
   "execution_count": 49,
   "metadata": {},
   "outputs": [
    {
     "name": "stdout",
     "output_type": "stream",
     "text": [
      "Cписок всех уникальных слов, содержащихся в обоих файлах: ['Рина', 'Рината', 'Жираф', 'Собака']\n",
      "Cписок слов из второго файла, не входящих в первый: ['Жираф', 'Собака', 'Лев', 'Лев']\n",
      "Cписок слов из первого файла, не входящих во второй: ['Рина', 'Рината']\n",
      "Cписок слов, входящих в оба файла: ['Ира', 'Ира', 'Ирина', 'Рослая', 'Рослянская', 'Рослова']\n",
      "Список слов, входящих либо в первый, либо во второй файл, но не входя­щих в оба файла одновременно:  ['Жираф', 'Собака', 'Лев', 'Лев', 'Рина', 'Рината']\n"
     ]
    }
   ],
   "source": [
    "import csv\n",
    "listt=[]\n",
    "listt2=[]\n",
    "list_of_same=[]\n",
    "list_of_first=[]\n",
    "list_of_second=[]\n",
    "list_of_notsame=[]\n",
    "uniqe=[]\n",
    "isuniqe=[]\n",
    "with open(\"text_1.1.txt\",'r',encoding='utf8') as file:\n",
    "    new = csv.reader(file)\n",
    "    for row in new:\n",
    "        for i in row:\n",
    "            listt.append(i)\n",
    "with open(\"text_1.2.txt\",'r',encoding='utf8') as file:\n",
    "    new2 = csv.reader(file)\n",
    "    for row in new2:\n",
    "        for i in row:\n",
    "            listt2.append(i)\n",
    "for i in listt:\n",
    "    if i in listt2:\n",
    "        list_of_same.append(i)\n",
    "    else:\n",
    "        list_of_first.append(i)\n",
    "for i in listt2:\n",
    "    if i not in listt:\n",
    "        list_of_second.append(i)\n",
    "for i in listt2:\n",
    "    if i not in listt:\n",
    "        list_of_notsame.append(i)\n",
    "for i in listt:\n",
    "    if i not in listt2:\n",
    "        list_of_notsame.append(i)\n",
    "for i in listt:\n",
    "    uniqe.append(i)   \n",
    "for i in listt2:\n",
    "    uniqe.append(i) \n",
    "for i in uniqe:\n",
    "    if uniqe.count(i) == 1:\n",
    "        isuniqe.append(i)\n",
    "print('Cписок всех уникальных слов, содержащихся в обоих файлах:',isuniqe)\n",
    "print('Cписок слов из второго файла, не входящих в первый:',list_of_second)\n",
    "print('Cписок слов из первого файла, не входящих во второй:',list_of_first)\n",
    "print('Cписок слов, входящих в оба файла:',list_of_same)\n",
    "print('Список слов, входящих либо в первый, либо во второй файл, но не входя­щих в оба файла одновременно: ',list_of_notsame)"
   ]
  },
  {
   "cell_type": "code",
   "execution_count": null,
   "metadata": {},
   "outputs": [],
   "source": []
  }
 ],
 "metadata": {
  "kernelspec": {
   "display_name": "Python 3",
   "language": "python",
   "name": "python3"
  },
  "language_info": {
   "codemirror_mode": {
    "name": "ipython",
    "version": 3
   },
   "file_extension": ".py",
   "mimetype": "text/x-python",
   "name": "python",
   "nbconvert_exporter": "python",
   "pygments_lexer": "ipython3",
   "version": "3.7.4"
  }
 },
 "nbformat": 4,
 "nbformat_minor": 4
}
